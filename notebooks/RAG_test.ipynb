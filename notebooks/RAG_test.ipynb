{
 "cells": [
  {
   "cell_type": "markdown",
   "id": "1997247b",
   "metadata": {},
   "source": [
    "Code to test Vector_Search_RAG.py"
   ]
  },
  {
   "cell_type": "code",
   "execution_count": 3,
   "id": "20cfe1d0",
   "metadata": {},
   "outputs": [
    {
     "ename": "ModuleNotFoundError",
     "evalue": "No module named 'faiss'",
     "output_type": "error",
     "traceback": [
      "\u001b[31m---------------------------------------------------------------------------\u001b[39m",
      "\u001b[31mModuleNotFoundError\u001b[39m                       Traceback (most recent call last)",
      "\u001b[36mCell\u001b[39m\u001b[36m \u001b[39m\u001b[32mIn[3]\u001b[39m\u001b[32m, line 1\u001b[39m\n\u001b[32m----> \u001b[39m\u001b[32m1\u001b[39m \u001b[38;5;28;01mimport\u001b[39;00m\u001b[38;5;250m \u001b[39m\u001b[34;01mfaiss\u001b[39;00m\n\u001b[32m      2\u001b[39m \u001b[38;5;28;01mfrom\u001b[39;00m\u001b[38;5;250m \u001b[39m\u001b[34;01mlangchain_community\u001b[39;00m\u001b[34;01m.\u001b[39;00m\u001b[34;01mdocstore\u001b[39;00m\u001b[34;01m.\u001b[39;00m\u001b[34;01min_memory\u001b[39;00m\u001b[38;5;250m \u001b[39m\u001b[38;5;28;01mimport\u001b[39;00m InMemoryDocstore\n\u001b[32m      3\u001b[39m \u001b[38;5;28;01mfrom\u001b[39;00m\u001b[38;5;250m \u001b[39m\u001b[34;01mlangchain_community\u001b[39;00m\u001b[34;01m.\u001b[39;00m\u001b[34;01mvectorstores\u001b[39;00m\u001b[38;5;250m \u001b[39m\u001b[38;5;28;01mimport\u001b[39;00m FAISS\n",
      "\u001b[31mModuleNotFoundError\u001b[39m: No module named 'faiss'"
     ]
    }
   ],
   "source": [
    "import faiss\n",
    "from langchain_community.docstore.in_memory import InMemoryDocstore\n",
    "from langchain_community.vectorstores import FAISS"
   ]
  },
  {
   "cell_type": "code",
   "execution_count": 1,
   "id": "44cd0774",
   "metadata": {},
   "outputs": [],
   "source": [
    "import sys\n",
    "import os\n",
    "\n",
    "# Add the parent folder \"consigliami\" to Python path\n",
    "sys.path.append(os.path.abspath(os.path.join(os.getcwd(), '..')))\n",
    "\n",
    "# Now import the class from scripts/DB_querying.py\n",
    "from scripts.Vector_Search_RAG import SemanticReviewSearcher"
   ]
  },
  {
   "cell_type": "code",
   "execution_count": 2,
   "id": "2f4d9886",
   "metadata": {},
   "outputs": [
    {
     "name": "stdout",
     "output_type": "stream",
     "text": [
      "📦 Retrieved 6 reviews from MongoDB.\n"
     ]
    },
    {
     "name": "stderr",
     "output_type": "stream",
     "text": [
      "c:\\Users\\jacop\\Desktop\\Lavori\\Consigl_IA_mi-\\.conda\\Lib\\site-packages\\tqdm\\auto.py:21: TqdmWarning: IProgress not found. Please update jupyter and ipywidgets. See https://ipywidgets.readthedocs.io/en/stable/user_install.html\n",
      "  from .autonotebook import tqdm as notebook_tqdm\n"
     ]
    },
    {
     "name": "stdout",
     "output_type": "stream",
     "text": [
      "🔧 Building FAISS index with 6 reviews...\n",
      "✅ In-memory FAISS index built with 6 documents.\n",
      "\n",
      "💬 Final Answer from LLM:\n",
      "Based on the reviews, I'd recommend visiting the Sports Bar! The reviews highlight that they have \"excellent\" pizzas, specifically mentioning la pizza fritta and Marechiaro. Additionally, one reviewer mentions that the vegetable lasagna is \"superb\". It seems like a cozy spot with great food options.\n",
      "\n",
      "Additionally, another review praises the bagel and vegetarian burger at this same location! So, you can rest assured that they have delicious vegetarian options as well.\n",
      "\n",
      "The reviews also mention that the service has been outstanding, which will surely contribute to a cozy environment. Overall, I think the Sports Bar would be an excellent choice for someone looking for great pizza and vegetarian options in a cozy setting!\n"
     ]
    }
   ],
   "source": [
    "from pprint import pprint\n",
    "from pymongo import MongoClient\n",
    "\n",
    "# ========== Setup ==========\n",
    "\n",
    "# Connect to MongoDB\n",
    "client = MongoClient(\"localhost\", 27017)\n",
    "db = client[\"Reviews\"]\n",
    "collection = db[\"Barcelona\"]\n",
    "\n",
    "# Simulated User Query\n",
    "user_query = \"I want a place with great pizza and vegetarian options in a cozy environment\"\n",
    "\n",
    "# Step 1: Retrieve relevant reviews from MongoDB (e.g., matching 'pizza' or 'vegetarian')\n",
    "keywords = [\"pizza\", \"vegetarian\", \"cozy\"]\n",
    "\n",
    "mongo_filter = {\n",
    "    \"$or\": [\n",
    "        {\"aspect_keys\": {\"$elemMatch\": {\"$regex\": k, \"$options\": \"i\"}}}\n",
    "        for k in keywords\n",
    "    ]\n",
    "}\n",
    "\n",
    "# Retrieve reviews from MongoDB\n",
    "retrieved_reviews = list(collection.find(mongo_filter).limit(10))  # limit for testing\n",
    "print(f\"📦 Retrieved {len(retrieved_reviews)} reviews from MongoDB.\")\n",
    "\n",
    "# ========== Step 2: Initialize and Build Temporary FAISS Index ==========\n",
    "searcher = SemanticReviewSearcher()\n",
    "\n",
    "searcher.build_index(retrieved_reviews, content_field=\"review_full\")\n",
    "\n",
    "# ========== Step 3: Perform RAG ==========\n",
    "response = searcher.run_rag(retrieved_reviews, query=user_query)\n",
    "\n",
    "# ========== Output ==========\n",
    "print(\"\\n💬 Final Answer from LLM:\")\n",
    "print(response)\n"
   ]
  }
 ],
 "metadata": {
  "kernelspec": {
   "display_name": ".conda",
   "language": "python",
   "name": "python3"
  },
  "language_info": {
   "codemirror_mode": {
    "name": "ipython",
    "version": 3
   },
   "file_extension": ".py",
   "mimetype": "text/x-python",
   "name": "python",
   "nbconvert_exporter": "python",
   "pygments_lexer": "ipython3",
   "version": "3.11.13"
  }
 },
 "nbformat": 4,
 "nbformat_minor": 5
}
